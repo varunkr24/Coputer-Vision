{
  "nbformat": 4,
  "nbformat_minor": 0,
  "metadata": {
    "kernelspec": {
      "display_name": "Python 3",
      "language": "python",
      "name": "python3"
    },
    "language_info": {
      "codemirror_mode": {
        "name": "ipython",
        "version": 3
      },
      "file_extension": ".py",
      "mimetype": "text/x-python",
      "name": "python",
      "nbconvert_exporter": "python",
      "pygments_lexer": "ipython3",
      "version": "3.6.3"
    },
    "colab": {
      "name": "Image+Annotation.ipynb",
      "provenance": [],
      "include_colab_link": true
    }
  },
  "cells": [
    {
      "cell_type": "markdown",
      "metadata": {
        "id": "view-in-github",
        "colab_type": "text"
      },
      "source": [
        "<a href=\"https://colab.research.google.com/github/varunkr24/Coputer-Vision/blob/Python/Image%2BAnnotation.ipynb\" target=\"_parent\"><img src=\"https://colab.research.google.com/assets/colab-badge.svg\" alt=\"Open In Colab\"/></a>"
      ]
    },
    {
      "cell_type": "markdown",
      "metadata": {
        "id": "S8iRB711rTgZ"
      },
      "source": [
        "# Annotate the coordinates of face detected from the image"
      ]
    },
    {
      "cell_type": "code",
      "metadata": {
        "id": "lW4qOsIyrTgi",
        "outputId": "6c54e5f8-4cf3-4c78-bd29-f631de16b956"
      },
      "source": [
        "import tensorflow\n",
        "tensorflow.__version__"
      ],
      "execution_count": null,
      "outputs": [
        {
          "output_type": "execute_result",
          "data": {
            "text/plain": [
              "'2.4.1'"
            ]
          },
          "metadata": {
            "tags": []
          },
          "execution_count": 1
        }
      ]
    },
    {
      "cell_type": "code",
      "metadata": {
        "collapsed": true,
        "id": "SRSqVteXrTgp"
      },
      "source": [
        "import numpy as np\n",
        "import pandas as pd\n",
        "import matplotlib.pyplot as plt\n",
        "import tensorflow as tf\n",
        "import cv2\n",
        "import matplotlib.patches as patches\n",
        "import os\n",
        "import warnings\n",
        "warnings.filterwarnings('ignore')\n",
        "from zipfile import ZipFile"
      ],
      "execution_count": null,
      "outputs": []
    },
    {
      "cell_type": "code",
      "metadata": {
        "collapsed": true,
        "id": "bh3UGUkcrTgs"
      },
      "source": [
        "#!pip install mtcnn\n",
        "from mtcnn.mtcnn import MTCNN"
      ],
      "execution_count": null,
      "outputs": []
    },
    {
      "cell_type": "markdown",
      "metadata": {
        "id": "mlbZPEJsrTgu"
      },
      "source": [
        "# Detect coordinates and faces of image"
      ]
    },
    {
      "cell_type": "code",
      "metadata": {
        "id": "Da5EVpSHrTgv",
        "outputId": "8814db79-2440-4ea3-c7cc-f56529d37597"
      },
      "source": [
        "detector = cv2.CascadeClassifier(cv2.data.haarcascades + 'haarcascade_frontalface_default.xml')\n",
        "img_array = cv2.imread('training images/real_00001.jpg')\n",
        "\n",
        "\n",
        "#detecting Faces\n",
        "boxes = detector.detectMultiScale(img_array,1.05,5)\n",
        "face_count = len(boxes)\n",
        "for box in boxes:\n",
        "    x,y,width,height = box\n",
        "    x2, y2 = x + width, y + height\n",
        "    print(f'x = {x} , y = {y} , width = {width} , height = {height}')\n",
        "    print(f'x2 = {x2} , y2 = {y2}')\n",
        "    # draw a rectangle over the pixels\n",
        "    cv2.rectangle(img_array, (x, y), (x2, y2),(0,0,255), 1)\n",
        "cv2.imshow('face detection', img_array)\n",
        "# keep the window open until we press a key\n",
        "cv2.waitKey(0)\n",
        "# close the window\n",
        "cv2.destroyAllWindows()"
      ],
      "execution_count": null,
      "outputs": [
        {
          "output_type": "stream",
          "text": [
            "x = 156 , y = 147 , width = 419 , height = 419\n",
            "x2 = 575 , y2 = 566\n"
          ],
          "name": "stdout"
        }
      ]
    },
    {
      "cell_type": "code",
      "metadata": {
        "collapsed": true,
        "id": "g7r6Gb0OrTgy"
      },
      "source": [
        "class ImageDataGenerator:\n",
        "    \n",
        "    #Initialzing the constructor of the class ImageDataGenerator\n",
        "    def __init__(self):\n",
        "        self.X_train = []\n",
        "        self.img_dict = {'Image_Name':[],'Image_Width':[],'Image_Height':[],'x':[],'y':[],'w':[],'h':[],'Total_Faces':[]}\n",
        "        self.detector = MTCNN()\n",
        "        self.df = pd.DataFrame()\n",
        "        self.IMAGE_HEIGHT = 224\n",
        "        self.IMAGE_WIDTH = 224\n",
        "    \n",
        "    #Preparing the image dataset\n",
        "    def prepare_image_dataset(self,dir_path):\n",
        "        #print('os.listdir(dir_path)=',os.listdir(dir_path))\n",
        "        #cnt = 0;\n",
        "        for image in os.listdir(dir_path):\n",
        "            #print('Image Name=',image)\n",
        "            img = cv2.imread(dir_path+'/'+image)\n",
        "            #print('image shape = ',img.shape)\n",
        "            img = cv2.cvtColor(img,cv2.COLOR_BGR2RGB)\n",
        "            img_resize = cv2.resize(img,(self.IMAGE_HEIGHT,self.IMAGE_WIDTH))\n",
        "            #print('img_resize shape = ',img_resize.shape)\n",
        "            self.X_train.append(img_resize)\n",
        "            faces = self.detector.detect_faces(img_resize)\n",
        "            face_count = len(faces)\n",
        "            print(f'Image Name = {image} and face counts = {face_count}')\n",
        "            for face in faces:\n",
        "                x,y,w,h = face['box']\n",
        "                self.img_dict['x'].append(x)\n",
        "                self.img_dict['y'].append(y)\n",
        "                self.img_dict['w'].append(w)\n",
        "                self.img_dict['h'].append(h)\n",
        "                self.img_dict['Total_Faces'].append(face_count)\n",
        "                self.img_dict['Image_Name'].append(image)\n",
        "                self.img_dict['Image_Width'].append(img_resize.shape[1])\n",
        "                self.img_dict['Image_Height'].append(img_resize.shape[0])\n",
        "            #cnt+=1\n",
        "            #if(cnt>5):\n",
        "            #    break\n",
        "        self.df = pd.DataFrame(self.img_dict)\n",
        "        return np.array(self.X_train),self.df\n",
        "    \n",
        "    \n",
        "    #"
      ],
      "execution_count": null,
      "outputs": []
    },
    {
      "cell_type": "code",
      "metadata": {
        "collapsed": true,
        "id": "6m4yAecmrTg2"
      },
      "source": [
        "#Creating the Class instance and initialisig some of our variable\n",
        "image_generator = ImageDataGenerator()"
      ],
      "execution_count": null,
      "outputs": []
    },
    {
      "cell_type": "code",
      "metadata": {
        "id": "MUVridRVrTg5",
        "outputId": "1109945a-6316-4aab-f3f9-18ad5f20484f"
      },
      "source": [
        "path = 'training images'\n",
        "image_data,image_metadata = image_generator.prepare_image_dataset(path)"
      ],
      "execution_count": null,
      "outputs": [
        {
          "output_type": "stream",
          "text": [
            "Image Name = real_00001.jpg and face counts = 1\n",
            "Image Name = real_00002.jpg and face counts = 1\n",
            "Image Name = real_00003.jpg and face counts = 1\n",
            "Image Name = real_00004.jpg and face counts = 1\n",
            "Image Name = real_00005.jpg and face counts = 1\n",
            "Image Name = real_00006.jpg and face counts = 1\n",
            "Image Name = real_00007.jpg and face counts = 1\n",
            "Image Name = real_00008.jpg and face counts = 1\n",
            "Image Name = real_00009.jpg and face counts = 1\n",
            "Image Name = real_00010.jpg and face counts = 1\n",
            "Image Name = real_00011.jpg and face counts = 1\n",
            "Image Name = real_00012.jpg and face counts = 1\n",
            "Image Name = real_00013.jpg and face counts = 1\n",
            "Image Name = real_00014.jpg and face counts = 1\n",
            "Image Name = real_00015.jpg and face counts = 1\n",
            "Image Name = real_00016.jpg and face counts = 1\n",
            "Image Name = real_00017.jpg and face counts = 1\n",
            "Image Name = real_00018.jpg and face counts = 1\n",
            "Image Name = real_00019.jpg and face counts = 1\n",
            "Image Name = real_00020.jpg and face counts = 1\n",
            "Image Name = real_00021.jpg and face counts = 1\n",
            "Image Name = real_00022.jpg and face counts = 1\n",
            "Image Name = real_00023.jpg and face counts = 1\n",
            "Image Name = real_00024.jpg and face counts = 1\n",
            "Image Name = real_00025.jpg and face counts = 1\n",
            "Image Name = real_00026.jpg and face counts = 1\n",
            "Image Name = real_00027.jpg and face counts = 1\n",
            "Image Name = real_00028.jpg and face counts = 1\n",
            "Image Name = real_00029.jpg and face counts = 1\n",
            "Image Name = real_00030.jpg and face counts = 1\n",
            "Image Name = real_00031.jpg and face counts = 1\n",
            "Image Name = real_00032.jpg and face counts = 1\n",
            "Image Name = real_00033.jpg and face counts = 1\n",
            "Image Name = real_00034.jpg and face counts = 1\n",
            "Image Name = real_00035.jpg and face counts = 1\n",
            "Image Name = real_00036.jpg and face counts = 1\n",
            "Image Name = real_00037.jpg and face counts = 1\n",
            "Image Name = real_00038.jpg and face counts = 1\n",
            "Image Name = real_00039.jpg and face counts = 1\n",
            "Image Name = real_00040.jpg and face counts = 1\n",
            "Image Name = real_00041.jpg and face counts = 1\n",
            "Image Name = real_00042.jpg and face counts = 1\n",
            "Image Name = real_00043.jpg and face counts = 1\n",
            "Image Name = real_00044.jpg and face counts = 1\n",
            "Image Name = real_00045.jpg and face counts = 1\n",
            "Image Name = real_00046.jpg and face counts = 1\n",
            "Image Name = real_00047.jpg and face counts = 1\n",
            "Image Name = real_00048.jpg and face counts = 1\n",
            "Image Name = real_00049.jpg and face counts = 1\n",
            "Image Name = real_00050.jpg and face counts = 1\n"
          ],
          "name": "stdout"
        }
      ]
    },
    {
      "cell_type": "code",
      "metadata": {
        "id": "Ugs9og_trTg8",
        "outputId": "18b7bcc6-988e-4db3-bc8d-9420ed70b614"
      },
      "source": [
        "image_metadata.head()"
      ],
      "execution_count": null,
      "outputs": [
        {
          "output_type": "execute_result",
          "data": {
            "text/html": [
              "<div>\n",
              "<style>\n",
              "    .dataframe thead tr:only-child th {\n",
              "        text-align: right;\n",
              "    }\n",
              "\n",
              "    .dataframe thead th {\n",
              "        text-align: left;\n",
              "    }\n",
              "\n",
              "    .dataframe tbody tr th {\n",
              "        vertical-align: top;\n",
              "    }\n",
              "</style>\n",
              "<table border=\"1\" class=\"dataframe\">\n",
              "  <thead>\n",
              "    <tr style=\"text-align: right;\">\n",
              "      <th></th>\n",
              "      <th>Image_Height</th>\n",
              "      <th>Image_Name</th>\n",
              "      <th>Image_Width</th>\n",
              "      <th>Total_Faces</th>\n",
              "      <th>h</th>\n",
              "      <th>w</th>\n",
              "      <th>x</th>\n",
              "      <th>y</th>\n",
              "    </tr>\n",
              "  </thead>\n",
              "  <tbody>\n",
              "    <tr>\n",
              "      <th>0</th>\n",
              "      <td>224</td>\n",
              "      <td>real_00001.jpg</td>\n",
              "      <td>224</td>\n",
              "      <td>1</td>\n",
              "      <td>178</td>\n",
              "      <td>137</td>\n",
              "      <td>57</td>\n",
              "      <td>43</td>\n",
              "    </tr>\n",
              "    <tr>\n",
              "      <th>1</th>\n",
              "      <td>224</td>\n",
              "      <td>real_00002.jpg</td>\n",
              "      <td>224</td>\n",
              "      <td>1</td>\n",
              "      <td>163</td>\n",
              "      <td>128</td>\n",
              "      <td>48</td>\n",
              "      <td>50</td>\n",
              "    </tr>\n",
              "    <tr>\n",
              "      <th>2</th>\n",
              "      <td>224</td>\n",
              "      <td>real_00003.jpg</td>\n",
              "      <td>224</td>\n",
              "      <td>1</td>\n",
              "      <td>175</td>\n",
              "      <td>121</td>\n",
              "      <td>40</td>\n",
              "      <td>34</td>\n",
              "    </tr>\n",
              "    <tr>\n",
              "      <th>3</th>\n",
              "      <td>224</td>\n",
              "      <td>real_00004.jpg</td>\n",
              "      <td>224</td>\n",
              "      <td>1</td>\n",
              "      <td>155</td>\n",
              "      <td>120</td>\n",
              "      <td>46</td>\n",
              "      <td>45</td>\n",
              "    </tr>\n",
              "    <tr>\n",
              "      <th>4</th>\n",
              "      <td>224</td>\n",
              "      <td>real_00005.jpg</td>\n",
              "      <td>224</td>\n",
              "      <td>1</td>\n",
              "      <td>148</td>\n",
              "      <td>111</td>\n",
              "      <td>43</td>\n",
              "      <td>55</td>\n",
              "    </tr>\n",
              "  </tbody>\n",
              "</table>\n",
              "</div>"
            ],
            "text/plain": [
              "   Image_Height      Image_Name  Image_Width  Total_Faces    h    w   x   y\n",
              "0           224  real_00001.jpg          224            1  178  137  57  43\n",
              "1           224  real_00002.jpg          224            1  163  128  48  50\n",
              "2           224  real_00003.jpg          224            1  175  121  40  34\n",
              "3           224  real_00004.jpg          224            1  155  120  46  45\n",
              "4           224  real_00005.jpg          224            1  148  111  43  55"
            ]
          },
          "metadata": {
            "tags": []
          },
          "execution_count": 58
        }
      ]
    },
    {
      "cell_type": "code",
      "metadata": {
        "collapsed": true,
        "id": "L-j-6Q2XrTg-"
      },
      "source": [
        ""
      ],
      "execution_count": null,
      "outputs": []
    }
  ]
}